{
 "cells": [
  {
   "cell_type": "code",
   "execution_count": 16,
   "id": "5370f97a-c4b4-4202-b238-968dec1c6999",
   "metadata": {},
   "outputs": [
    {
     "data": {
      "text/plain": [
       "'/mnt/projects/sne/felix_tests/playground-siby'"
      ]
     },
     "execution_count": 16,
     "metadata": {},
     "output_type": "execute_result"
    }
   ],
   "source": [
    "import os\n",
    "import re\n",
    "\n",
    "import pandas as pd\n",
    "os.getcwd()-42.53849797"
   ]
  },
  {
   "cell_type": "code",
   "execution_count": 17,
   "id": "fc244eb9-d70d-467e-a89b-e09c2266d11c",
   "metadata": {},
   "outputs": [
    {
     "name": "stdout",
     "output_type": "stream",
     "text": [
      "119\n"
     ]
    }
   ],
   "source": [
    "rawstruc_fn = \"./data/siby-manganese-raw\"\n",
    "datafolders = []\n",
    "for folder, dirnames, filenames in os.walk(rawstruc_fn):\n",
    "    if \"CONTCAR\" in filenames:\n",
    "        datafolders.append(folder)\n",
    "print(len(datafolders))"
   ]
  },
  {
   "cell_type": "code",
   "execution_count": 18,
   "id": "3eddcf2e-7049-4803-bdb6-3210e92bda1d",
   "metadata": {},
   "outputs": [
    {
     "name": "stdout",
     "output_type": "stream",
     "text": [
      "Missing OUTCAR ./data/siby-manganese-raw/1-CO/1-PR/2-OT-h\n"
     ]
    }
   ],
   "source": [
    "datafolders2canonical = {}\n",
    "site_lookup = {\"OT-h\" : \"Oh\", \"OT-v\" : \"Ov\", \"OT-v1\" : \"Ov1\",\n",
    "               \"Br-h\" : \"Bh\", \"Br-v\" : \"Bv\", \"Br-v1\" : \"Bv1\", \n",
    "               \"H-h\" : \"Hh\", \"H-v\" : \"Hv\", \"H-v1\" : \"Hv1\", \n",
    "               \"defect-v1\" : \"Dv1\", 'defcet-v' : \"Dv\", 'defect-v': \"Dv\",\n",
    "               'defect-h' : \"Dh\", \"def\" : \"D\", \"def2\" : \"D2\"}\n",
    "               \n",
    "for df in datafolders:\n",
    "    naming = re.match(fr\"{rawstruc_fn}/[0-9]-(.*?)/[0-9]-(.*?)/[0-9]+-(.*)\",\n",
    "                     df)\n",
    "    if not naming:\n",
    "        print(\"PROBLEM MATCHING: \", df)\n",
    "        continue\n",
    "    adsorbant, sys, site = naming.groups()\n",
    "    try:\n",
    "        canonical_site = site_lookup[site]\n",
    "    except Exception as e:\n",
    "        print(df)\n",
    "        raise e\n",
    "    \n",
    "    try:\n",
    "        with open(os.path.join(df, \"OUTCAR\")) as outcar:\n",
    "            final_energy = float(\n",
    "                re.findall(r'free energy\\s+TOTEN\\s+=\\s+([0-9-]+.[0-9]+) eV', outcar.read())[-1])\n",
    "    except FileNotFoundError as e:\n",
    "        final_energy = None\n",
    "        print(\"Missing OUTCAR\", df)\n",
    "        \n",
    "    datafolders2canonical[df] = (f\"Mg-{sys}-{canonical_site}-{adsorbant}\", final_energy)\n",
    "    \n",
    "keys2folders = {}\n",
    "for k, v in datafolders2canonical.items():\n",
    "    if v[0] not in keys2folders.keys():\n",
    "        keys2folders[v[0]] = {\"path\" : k, \"check_energy\" : v[1]}\n",
    "    else:\n",
    "        print(v, \": \", k, all_files[v])\n",
    "        break"
   ]
  },
  {
   "cell_type": "code",
   "execution_count": 19,
   "id": "b6431778-73ad-496d-b1f4-bbeadbc26d38",
   "metadata": {},
   "outputs": [],
   "source": [
    "# find the energy and compare it to the table by siby. then save!\n",
    "data_df = pd.DataFrame.from_dict(keys2folders, orient=\"index\")\n",
    "labels_df = pd.read_excel(\"data/Mg_data_for_ML.fixed.xlsx\")\n",
    "labels_df[\"System\"] = labels_df[\"System\"].apply(lambda s: s.replace(\"Mg-BV1\", \"Mg-DV1\"))\n",
    "labels_df[\"System\"] = labels_df[\"System\"].apply(lambda s: s.replace(\"Mg-BV2\", \"Mg-DV2\"))\n",
    "\n",
    "system_df = labels_df.merge(data_df, left_on=\"System\", right_index=True)\n",
    "\n",
    "mismatch = system_df[\n",
    "    system_df[\"TE\"] - system_df[\"check_energy\"] > 0.0001][\n",
    "    [\"System\", \"TE\", \"check_energy\", \"path\"]]"
   ]
  },
  {
   "cell_type": "code",
   "execution_count": 20,
   "id": "9256292b-5c4f-49cb-84c5-0be211c0caa3",
   "metadata": {},
   "outputs": [
    {
     "data": {
      "text/html": [
       "<div>\n",
       "<style scoped>\n",
       "    .dataframe tbody tr th:only-of-type {\n",
       "        vertical-align: middle;\n",
       "    }\n",
       "\n",
       "    .dataframe tbody tr th {\n",
       "        vertical-align: top;\n",
       "    }\n",
       "\n",
       "    .dataframe thead th {\n",
       "        text-align: right;\n",
       "    }\n",
       "</style>\n",
       "<table border=\"1\" class=\"dataframe\">\n",
       "  <thead>\n",
       "    <tr style=\"text-align: right;\">\n",
       "      <th></th>\n",
       "      <th>System</th>\n",
       "      <th>TE</th>\n",
       "      <th>check_energy</th>\n",
       "      <th>path</th>\n",
       "    </tr>\n",
       "  </thead>\n",
       "  <tbody>\n",
       "  </tbody>\n",
       "</table>\n",
       "</div>"
      ],
      "text/plain": [
       "Empty DataFrame\n",
       "Columns: [System, TE, check_energy, path]\n",
       "Index: []"
      ]
     },
     "execution_count": 20,
     "metadata": {},
     "output_type": "execute_result"
    }
   ],
   "source": [
    "mismatch"
   ]
  },
  {
   "cell_type": "code",
   "execution_count": 21,
   "id": "802e1e9c-2ace-447d-ac9b-87a254730968",
   "metadata": {},
   "outputs": [],
   "source": [
    "system_df.to_excel(\"data/dataset_pp.2022-12-09.xlsx\")"
   ]
  },
  {
   "cell_type": "code",
   "execution_count": null,
   "id": "d387bef8-8631-4459-a2b9-ee677feff164",
   "metadata": {},
   "outputs": [],
   "source": []
  }
 ],
 "metadata": {
  "kernelspec": {
   "display_name": "Python 3 (ipykernel)",
   "language": "python",
   "name": "python3"
  },
  "language_info": {
   "codemirror_mode": {
    "name": "ipython",
    "version": 3
   },
   "file_extension": ".py",
   "mimetype": "text/x-python",
   "name": "python",
   "nbconvert_exporter": "python",
   "pygments_lexer": "ipython3",
   "version": "3.9.15"
  }
 },
 "nbformat": 4,
 "nbformat_minor": 5
}
