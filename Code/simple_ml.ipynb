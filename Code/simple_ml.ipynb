{
 "cells": [
  {
   "cell_type": "code",
   "execution_count": 23,
   "id": "4fbb0967-5e69-45f0-aeff-2afb547ee8fe",
   "metadata": {},
   "outputs": [
    {
     "name": "stdout",
     "output_type": "stream",
     "text": [
      "Requirement already satisfied: xgboost in c:\\users\\ge47yej\\anaconda3\\lib\\site-packages (1.5.2)\n",
      "Requirement already satisfied: scipy in c:\\users\\ge47yej\\anaconda3\\lib\\site-packages (from xgboost) (1.6.2)\n",
      "Requirement already satisfied: numpy in c:\\users\\ge47yej\\anaconda3\\lib\\site-packages (from xgboost) (1.20.1)\n"
     ]
    }
   ],
   "source": [
    "!python -m pip install xgboost"
   ]
  },
  {
   "cell_type": "code",
   "execution_count": 24,
   "id": "8e15d719-dace-49f7-85fa-3d77ca2ab64f",
   "metadata": {},
   "outputs": [],
   "source": [
    "from functools import partial\n",
    "\n",
    "import os\n",
    "\n",
    "import numpy as np\n",
    "import pandas as pd\n",
    "\n",
    "from sklearn.preprocessing import StandardScaler, MinMaxScaler, RobustScaler\n",
    "\n",
    "import json\n",
    "\n",
    "# plotting\n",
    "import matplotlib.pyplot as plt\n",
    "\n",
    "import importlib as imp\n",
    "import sklearn_utils\n",
    "imp.reload(sklearn_utils)\n",
    "from sklearn_utils import run_regressor_nested_cv, run_regressor_manual"
   ]
  },
  {
   "cell_type": "code",
   "execution_count": 25,
   "id": "4d6c42a2-59b8-465d-88ca-fa619020cacc",
   "metadata": {},
   "outputs": [
    {
     "data": {
      "text/plain": [
       "array(['Mg-PR-Hh-CO', 'Mg-PR-Oh-CO', 'Mg-PR-Bh-CO', 'Mg-PR-Hv-CO',\n",
       "       'Mg-PR-Ov-CO', 'Mg-PR-Bv-CO', 'Mg-PR-Hv1-CO', 'Mg-PR-Ov1-CO',\n",
       "       'Mg-PR-Bv1-CO', 'Mg-MV-Hh-CO', 'Mg-MV-Bh-CO', 'Mg-MV-Hv-CO',\n",
       "       'Mg-MV-Ov-CO', 'Mg-MV-Bv-CO', 'Mg-MV-Hv1-CO', 'Mg-MV-Ov1-CO',\n",
       "       'Mg-MV-Bv1-CO', 'Mg-MV-Dh-CO', 'Mg-MV-Dv-CO', 'Mg-MV-Dv1-CO',\n",
       "       'Mg-DV1-Hh-CO', 'Mg-DV1-Oh-CO', 'Mg-DV1-Bh-CO', 'Mg-DV1-Hv-CO',\n",
       "       'Mg-DV1-Ov-CO', 'Mg-DV1-Bv-CO', 'Mg-DV1-Hv1-CO', 'Mg-DV1-Ov1-CO',\n",
       "       'Mg-DV1-Bv1-CO', 'Mg-DV1-Dh-CO', 'Mg-DV1-Dv-CO', 'Mg-DV1-Dv1-CO',\n",
       "       'Mg-DV2-Hh-CO', 'Mg-DV2-Oh-CO', 'Mg-DV2-Bh-CO', 'Mg-DV2-Hv-CO',\n",
       "       'Mg-DV2-Ov-CO', 'Mg-DV2-Bv-CO', 'Mg-DV2-Ov1-CO', 'Mg-DV2-Bv1-CO',\n",
       "       'Mg-DV2-Dh-CO', 'Mg-DV2-Dv-CO', 'Mg-DV2-Dv1-CO', 'Mg-PR-Hh-CO2',\n",
       "       'Mg-PR-Oh-CO2', 'Mg-PR-Bh-CO2', 'Mg-PR-Hv-CO2', 'Mg-PR-Ov-CO2',\n",
       "       'Mg-PR-Bv-CO2', 'Mg-PR-Hv1-CO2', 'Mg-PR-Ov1-CO2', 'Mg-PR-Bv1-CO2',\n",
       "       'Mg-MV-Hh-CO2', 'Mg-MV-Bh-CO2', 'Mg-MV-Hv-CO2', 'Mg-MV-Ov-CO2',\n",
       "       'Mg-MV-Bv-CO2', 'Mg-MV-Hv1-CO2', 'Mg-MV-Ov1-CO2', 'Mg-MV-Bv1-CO2',\n",
       "       'Mg-MV-Dh-CO2', 'Mg-MV-Dv-CO2', 'Mg-MV-Dv1-CO2', 'Mg-DV1-Hh-CO2',\n",
       "       'Mg-DV1-Oh-CO2', 'Mg-DV1-Bh-CO2', 'Mg-DV1-Hv-CO2', 'Mg-DV1-Ov-CO2',\n",
       "       'Mg-DV1-Bv-CO2', 'Mg-DV1-Hv1-CO2', 'Mg-DV1-Ov1-CO2',\n",
       "       'Mg-DV1-Bv1-CO2', 'Mg-DV1-Dh-CO2', 'Mg-DV1-Dv-CO2',\n",
       "       'Mg-DV1-Dv1-CO2', 'Mg-DV2-Hh-CO2', 'Mg-DV2-Oh-CO2',\n",
       "       'Mg-DV2-Bh-CO2', 'Mg-DV2-Hv-CO2', 'Mg-DV2-Ov-CO2', 'Mg-DV2-Bv-CO2',\n",
       "       'Mg-DV2-Hv1-CO2', 'Mg-DV2-Ov1-CO2', 'Mg-DV2-Bv1-CO2',\n",
       "       'Mg-DV2-Dh-CO2', 'Mg-DV2-Dv-CO2', 'Mg-DV2-Dv1-CO2', 'Mg-PR-Hh-CH4',\n",
       "       'Mg-PR-Oh-CH4', 'Mg-PR-Bh-CH4', 'Mg-PR-Hv-CH4', 'Mg-PR-Ov-CH4',\n",
       "       'Mg-PR-Bv-CH4', 'Mg-MV-Hh-CH4', 'Mg-MV-Oh-CH4', 'Mg-MV-Bh-CH4',\n",
       "       'Mg-MV-D-CH4', 'Mg-MV-Hv-CH4', 'Mg-MV-Ov-CH4', 'Mg-MV-Bv-CH4',\n",
       "       'Mg-MV-D2-CH4', 'Mg-DV1-Hh-CH4', 'Mg-DV1-Oh-CH4', 'Mg-DV1-Bh-CH4',\n",
       "       'Mg-DV1-D-CH4', 'Mg-DV1-Hv-CH4', 'Mg-DV1-Bv-CH4', 'Mg-DV1-D2-CH4',\n",
       "       'Mg-DV2-Hh-CH4', 'Mg-DV2-Oh-CH4', 'Mg-DV2-Bh-CH4', 'Mg-DV2-D-CH4',\n",
       "       'Mg-DV2-Hv-CH4', 'Mg-DV2-Ov-CH4', 'Mg-DV2-Bv-CH4', 'Mg-DV2-D2-CH4'],\n",
       "      dtype=object)"
      ]
     },
     "execution_count": 25,
     "metadata": {},
     "output_type": "execute_result"
    }
   ],
   "source": [
    "data = pd.read_excel(\"./data/dataset_pp.2022-12-09.xlsx\", index_col=0)\n",
    "data.columns\n",
    "data[\"System\"].unique()\n"
   ]
  },
  {
   "cell_type": "code",
   "execution_count": 26,
   "id": "f6bf00a5-3270-47f0-aae5-85ec41337f67",
   "metadata": {},
   "outputs": [
    {
     "data": {
      "text/html": [
       "<div>\n",
       "<style scoped>\n",
       "    .dataframe tbody tr th:only-of-type {\n",
       "        vertical-align: middle;\n",
       "    }\n",
       "\n",
       "    .dataframe tbody tr th {\n",
       "        vertical-align: top;\n",
       "    }\n",
       "\n",
       "    .dataframe thead th {\n",
       "        text-align: right;\n",
       "    }\n",
       "</style>\n",
       "<table border=\"1\" class=\"dataframe\">\n",
       "  <thead>\n",
       "    <tr style=\"text-align: right;\">\n",
       "      <th></th>\n",
       "      <th>sys</th>\n",
       "      <th>pos</th>\n",
       "    </tr>\n",
       "    <tr>\n",
       "      <th>ads</th>\n",
       "      <th></th>\n",
       "      <th></th>\n",
       "    </tr>\n",
       "  </thead>\n",
       "  <tbody>\n",
       "    <tr>\n",
       "      <th>0</th>\n",
       "      <td>4</td>\n",
       "      <td>8</td>\n",
       "    </tr>\n",
       "    <tr>\n",
       "      <th>1</th>\n",
       "      <td>4</td>\n",
       "      <td>12</td>\n",
       "    </tr>\n",
       "    <tr>\n",
       "      <th>2</th>\n",
       "      <td>4</td>\n",
       "      <td>12</td>\n",
       "    </tr>\n",
       "  </tbody>\n",
       "</table>\n",
       "</div>"
      ],
      "text/plain": [
       "     sys  pos\n",
       "ads          \n",
       "0      4    8\n",
       "1      4   12\n",
       "2      4   12"
      ]
     },
     "execution_count": 26,
     "metadata": {},
     "output_type": "execute_result"
    }
   ],
   "source": [
    "features_primitive = data[[\n",
    "    'a_lat', 'b_lat',\n",
    "    'AN1', 'AN2', 'AN3', 'AN4', 'AN5', 'AN6', 'MN1', 'MN2', 'MN3', 'MN4',\n",
    "    'MN5', 'MN6', 'GN1', 'GN2', 'GN3', 'GN4', 'GN5', 'GN6', 'PN1', 'PN2',\n",
    "    'PN3', 'PN4', 'PN5', 'PN6', 'Elec_neg1', 'Elec_neg2', 'Elec_neg3',\n",
    "    'Elec_neg4', 'Elec_neg5', 'Elec_neg6', 'At_radii1', 'At_radii2',\n",
    "    'At_radii3', 'At_radii4', 'At_radii5', 'At_radii6', 'vdWR1', 'vdWR2',\n",
    "    'vdWR3', 'vdWR4', 'vdWR5', 'vdWR6', 'cov_rad1', 'cov_rad2', 'cov_rad3',\n",
    "    'cov_rad4', 'cov_rad5', 'cov_rad6', 'ion_rad1', 'ion_rad2', 'ion_rad3',\n",
    "    'ion_rad4', 'ion_rad5', 'ion_rad6', 'desnity1', 'desnity2', 'desnity3',\n",
    "    'desnity4', 'desnity5', 'desnity6']]\n",
    "extra_features = data[\"System\"].str.split(\"-\")\n",
    "extra_df = pd.DataFrame.from_dict(dict(zip(extra_features.index, extra_features.values))).T\n",
    "extra_df.columns = [\"...\", \"sys\", \"pos\", \"ads\"]\n",
    "extra_df = extra_df.iloc[:, 1:]\n",
    "ads_names = extra_df[\"ads\"]\n",
    "for cc in [\"sys\", \"pos\", \"ads\"]:\n",
    "    extra_df[cc] = extra_df[cc].astype(\"category\").cat.codes\n",
    "#features_primitive = pd.concat([features_primitive, extra_df], axis=1)\n",
    "target = data[\"E_ads\"]\n",
    "extra_df.groupby('ads').nunique()"
   ]
  },
  {
   "cell_type": "code",
   "execution_count": 27,
   "id": "77be1548-c59e-498e-a5a1-a8e8b93aa71e",
   "metadata": {},
   "outputs": [
    {
     "data": {
      "text/html": [
       "<div>\n",
       "<style scoped>\n",
       "    .dataframe tbody tr th:only-of-type {\n",
       "        vertical-align: middle;\n",
       "    }\n",
       "\n",
       "    .dataframe tbody tr th {\n",
       "        vertical-align: top;\n",
       "    }\n",
       "\n",
       "    .dataframe thead th {\n",
       "        text-align: right;\n",
       "    }\n",
       "</style>\n",
       "<table border=\"1\" class=\"dataframe\">\n",
       "  <thead>\n",
       "    <tr style=\"text-align: right;\">\n",
       "      <th></th>\n",
       "      <th>a_lat</th>\n",
       "      <th>b_lat</th>\n",
       "      <th>AN1</th>\n",
       "      <th>AN2</th>\n",
       "      <th>AN3</th>\n",
       "      <th>AN4</th>\n",
       "      <th>AN5</th>\n",
       "      <th>AN6</th>\n",
       "      <th>MN1</th>\n",
       "      <th>MN2</th>\n",
       "      <th>...</th>\n",
       "      <th>ion_rad3</th>\n",
       "      <th>ion_rad4</th>\n",
       "      <th>ion_rad5</th>\n",
       "      <th>ion_rad6</th>\n",
       "      <th>desnity1</th>\n",
       "      <th>desnity2</th>\n",
       "      <th>desnity3</th>\n",
       "      <th>desnity4</th>\n",
       "      <th>desnity5</th>\n",
       "      <th>desnity6</th>\n",
       "    </tr>\n",
       "  </thead>\n",
       "  <tbody>\n",
       "    <tr>\n",
       "      <th>0</th>\n",
       "      <td>15.221935</td>\n",
       "      <td>13.195527</td>\n",
       "      <td>12</td>\n",
       "      <td>6</td>\n",
       "      <td>8</td>\n",
       "      <td>0</td>\n",
       "      <td>0</td>\n",
       "      <td>0</td>\n",
       "      <td>24.305</td>\n",
       "      <td>12.011</td>\n",
       "      <td>...</td>\n",
       "      <td>1.40</td>\n",
       "      <td>0.00</td>\n",
       "      <td>0.00</td>\n",
       "      <td>0.00</td>\n",
       "      <td>1.738</td>\n",
       "      <td>2.26</td>\n",
       "      <td>1.4290</td>\n",
       "      <td>0.0000</td>\n",
       "      <td>0.0000</td>\n",
       "      <td>0.0000</td>\n",
       "    </tr>\n",
       "    <tr>\n",
       "      <th>1</th>\n",
       "      <td>15.076715</td>\n",
       "      <td>13.202952</td>\n",
       "      <td>12</td>\n",
       "      <td>6</td>\n",
       "      <td>8</td>\n",
       "      <td>0</td>\n",
       "      <td>0</td>\n",
       "      <td>0</td>\n",
       "      <td>24.305</td>\n",
       "      <td>12.011</td>\n",
       "      <td>...</td>\n",
       "      <td>1.40</td>\n",
       "      <td>0.00</td>\n",
       "      <td>0.00</td>\n",
       "      <td>0.00</td>\n",
       "      <td>1.738</td>\n",
       "      <td>2.26</td>\n",
       "      <td>1.4290</td>\n",
       "      <td>0.0000</td>\n",
       "      <td>0.0000</td>\n",
       "      <td>0.0000</td>\n",
       "    </tr>\n",
       "    <tr>\n",
       "      <th>2</th>\n",
       "      <td>15.179025</td>\n",
       "      <td>13.162711</td>\n",
       "      <td>12</td>\n",
       "      <td>6</td>\n",
       "      <td>8</td>\n",
       "      <td>0</td>\n",
       "      <td>0</td>\n",
       "      <td>0</td>\n",
       "      <td>24.305</td>\n",
       "      <td>12.011</td>\n",
       "      <td>...</td>\n",
       "      <td>1.40</td>\n",
       "      <td>0.00</td>\n",
       "      <td>0.00</td>\n",
       "      <td>0.00</td>\n",
       "      <td>1.738</td>\n",
       "      <td>2.26</td>\n",
       "      <td>1.4290</td>\n",
       "      <td>0.0000</td>\n",
       "      <td>0.0000</td>\n",
       "      <td>0.0000</td>\n",
       "    </tr>\n",
       "    <tr>\n",
       "      <th>3</th>\n",
       "      <td>15.230991</td>\n",
       "      <td>13.192220</td>\n",
       "      <td>12</td>\n",
       "      <td>6</td>\n",
       "      <td>8</td>\n",
       "      <td>0</td>\n",
       "      <td>0</td>\n",
       "      <td>0</td>\n",
       "      <td>24.305</td>\n",
       "      <td>12.011</td>\n",
       "      <td>...</td>\n",
       "      <td>1.40</td>\n",
       "      <td>0.00</td>\n",
       "      <td>0.00</td>\n",
       "      <td>0.00</td>\n",
       "      <td>1.738</td>\n",
       "      <td>2.26</td>\n",
       "      <td>1.4290</td>\n",
       "      <td>0.0000</td>\n",
       "      <td>0.0000</td>\n",
       "      <td>0.0000</td>\n",
       "    </tr>\n",
       "    <tr>\n",
       "      <th>4</th>\n",
       "      <td>15.258302</td>\n",
       "      <td>13.159573</td>\n",
       "      <td>12</td>\n",
       "      <td>6</td>\n",
       "      <td>8</td>\n",
       "      <td>0</td>\n",
       "      <td>0</td>\n",
       "      <td>0</td>\n",
       "      <td>24.305</td>\n",
       "      <td>12.011</td>\n",
       "      <td>...</td>\n",
       "      <td>1.40</td>\n",
       "      <td>0.00</td>\n",
       "      <td>0.00</td>\n",
       "      <td>0.00</td>\n",
       "      <td>1.738</td>\n",
       "      <td>2.26</td>\n",
       "      <td>1.4290</td>\n",
       "      <td>0.0000</td>\n",
       "      <td>0.0000</td>\n",
       "      <td>0.0000</td>\n",
       "    </tr>\n",
       "    <tr>\n",
       "      <th>...</th>\n",
       "      <td>...</td>\n",
       "      <td>...</td>\n",
       "      <td>...</td>\n",
       "      <td>...</td>\n",
       "      <td>...</td>\n",
       "      <td>...</td>\n",
       "      <td>...</td>\n",
       "      <td>...</td>\n",
       "      <td>...</td>\n",
       "      <td>...</td>\n",
       "      <td>...</td>\n",
       "      <td>...</td>\n",
       "      <td>...</td>\n",
       "      <td>...</td>\n",
       "      <td>...</td>\n",
       "      <td>...</td>\n",
       "      <td>...</td>\n",
       "      <td>...</td>\n",
       "      <td>...</td>\n",
       "      <td>...</td>\n",
       "      <td>...</td>\n",
       "    </tr>\n",
       "    <tr>\n",
       "      <th>115</th>\n",
       "      <td>14.994697</td>\n",
       "      <td>12.012271</td>\n",
       "      <td>12</td>\n",
       "      <td>6</td>\n",
       "      <td>1</td>\n",
       "      <td>1</td>\n",
       "      <td>1</td>\n",
       "      <td>1</td>\n",
       "      <td>24.305</td>\n",
       "      <td>12.011</td>\n",
       "      <td>...</td>\n",
       "      <td>2.08</td>\n",
       "      <td>2.08</td>\n",
       "      <td>2.08</td>\n",
       "      <td>2.08</td>\n",
       "      <td>1.738</td>\n",
       "      <td>2.26</td>\n",
       "      <td>0.0899</td>\n",
       "      <td>0.0899</td>\n",
       "      <td>0.0899</td>\n",
       "      <td>0.0899</td>\n",
       "    </tr>\n",
       "    <tr>\n",
       "      <th>116</th>\n",
       "      <td>15.323025</td>\n",
       "      <td>12.533031</td>\n",
       "      <td>12</td>\n",
       "      <td>6</td>\n",
       "      <td>1</td>\n",
       "      <td>1</td>\n",
       "      <td>1</td>\n",
       "      <td>1</td>\n",
       "      <td>24.305</td>\n",
       "      <td>12.011</td>\n",
       "      <td>...</td>\n",
       "      <td>2.08</td>\n",
       "      <td>2.08</td>\n",
       "      <td>2.08</td>\n",
       "      <td>2.08</td>\n",
       "      <td>1.738</td>\n",
       "      <td>2.26</td>\n",
       "      <td>0.0899</td>\n",
       "      <td>0.0899</td>\n",
       "      <td>0.0899</td>\n",
       "      <td>0.0899</td>\n",
       "    </tr>\n",
       "    <tr>\n",
       "      <th>117</th>\n",
       "      <td>15.318144</td>\n",
       "      <td>12.565966</td>\n",
       "      <td>12</td>\n",
       "      <td>6</td>\n",
       "      <td>1</td>\n",
       "      <td>1</td>\n",
       "      <td>1</td>\n",
       "      <td>1</td>\n",
       "      <td>24.305</td>\n",
       "      <td>12.011</td>\n",
       "      <td>...</td>\n",
       "      <td>2.08</td>\n",
       "      <td>2.08</td>\n",
       "      <td>2.08</td>\n",
       "      <td>2.08</td>\n",
       "      <td>1.738</td>\n",
       "      <td>2.26</td>\n",
       "      <td>0.0899</td>\n",
       "      <td>0.0899</td>\n",
       "      <td>0.0899</td>\n",
       "      <td>0.0899</td>\n",
       "    </tr>\n",
       "    <tr>\n",
       "      <th>118</th>\n",
       "      <td>15.316077</td>\n",
       "      <td>12.451363</td>\n",
       "      <td>12</td>\n",
       "      <td>6</td>\n",
       "      <td>1</td>\n",
       "      <td>1</td>\n",
       "      <td>1</td>\n",
       "      <td>1</td>\n",
       "      <td>24.305</td>\n",
       "      <td>12.011</td>\n",
       "      <td>...</td>\n",
       "      <td>2.08</td>\n",
       "      <td>2.08</td>\n",
       "      <td>2.08</td>\n",
       "      <td>2.08</td>\n",
       "      <td>1.738</td>\n",
       "      <td>2.26</td>\n",
       "      <td>0.0899</td>\n",
       "      <td>0.0899</td>\n",
       "      <td>0.0899</td>\n",
       "      <td>0.0899</td>\n",
       "    </tr>\n",
       "    <tr>\n",
       "      <th>119</th>\n",
       "      <td>15.141868</td>\n",
       "      <td>11.939432</td>\n",
       "      <td>12</td>\n",
       "      <td>6</td>\n",
       "      <td>1</td>\n",
       "      <td>1</td>\n",
       "      <td>1</td>\n",
       "      <td>1</td>\n",
       "      <td>24.305</td>\n",
       "      <td>12.011</td>\n",
       "      <td>...</td>\n",
       "      <td>2.08</td>\n",
       "      <td>2.08</td>\n",
       "      <td>2.08</td>\n",
       "      <td>2.08</td>\n",
       "      <td>1.738</td>\n",
       "      <td>2.26</td>\n",
       "      <td>0.0899</td>\n",
       "      <td>0.0899</td>\n",
       "      <td>0.0899</td>\n",
       "      <td>0.0899</td>\n",
       "    </tr>\n",
       "  </tbody>\n",
       "</table>\n",
       "<p>116 rows × 62 columns</p>\n",
       "</div>"
      ],
      "text/plain": [
       "         a_lat      b_lat  AN1  AN2  AN3  AN4  AN5  AN6     MN1     MN2  ...  \\\n",
       "0    15.221935  13.195527   12    6    8    0    0    0  24.305  12.011  ...   \n",
       "1    15.076715  13.202952   12    6    8    0    0    0  24.305  12.011  ...   \n",
       "2    15.179025  13.162711   12    6    8    0    0    0  24.305  12.011  ...   \n",
       "3    15.230991  13.192220   12    6    8    0    0    0  24.305  12.011  ...   \n",
       "4    15.258302  13.159573   12    6    8    0    0    0  24.305  12.011  ...   \n",
       "..         ...        ...  ...  ...  ...  ...  ...  ...     ...     ...  ...   \n",
       "115  14.994697  12.012271   12    6    1    1    1    1  24.305  12.011  ...   \n",
       "116  15.323025  12.533031   12    6    1    1    1    1  24.305  12.011  ...   \n",
       "117  15.318144  12.565966   12    6    1    1    1    1  24.305  12.011  ...   \n",
       "118  15.316077  12.451363   12    6    1    1    1    1  24.305  12.011  ...   \n",
       "119  15.141868  11.939432   12    6    1    1    1    1  24.305  12.011  ...   \n",
       "\n",
       "     ion_rad3  ion_rad4  ion_rad5  ion_rad6  desnity1  desnity2  desnity3  \\\n",
       "0        1.40      0.00      0.00      0.00     1.738      2.26    1.4290   \n",
       "1        1.40      0.00      0.00      0.00     1.738      2.26    1.4290   \n",
       "2        1.40      0.00      0.00      0.00     1.738      2.26    1.4290   \n",
       "3        1.40      0.00      0.00      0.00     1.738      2.26    1.4290   \n",
       "4        1.40      0.00      0.00      0.00     1.738      2.26    1.4290   \n",
       "..        ...       ...       ...       ...       ...       ...       ...   \n",
       "115      2.08      2.08      2.08      2.08     1.738      2.26    0.0899   \n",
       "116      2.08      2.08      2.08      2.08     1.738      2.26    0.0899   \n",
       "117      2.08      2.08      2.08      2.08     1.738      2.26    0.0899   \n",
       "118      2.08      2.08      2.08      2.08     1.738      2.26    0.0899   \n",
       "119      2.08      2.08      2.08      2.08     1.738      2.26    0.0899   \n",
       "\n",
       "     desnity4  desnity5  desnity6  \n",
       "0      0.0000    0.0000    0.0000  \n",
       "1      0.0000    0.0000    0.0000  \n",
       "2      0.0000    0.0000    0.0000  \n",
       "3      0.0000    0.0000    0.0000  \n",
       "4      0.0000    0.0000    0.0000  \n",
       "..        ...       ...       ...  \n",
       "115    0.0899    0.0899    0.0899  \n",
       "116    0.0899    0.0899    0.0899  \n",
       "117    0.0899    0.0899    0.0899  \n",
       "118    0.0899    0.0899    0.0899  \n",
       "119    0.0899    0.0899    0.0899  \n",
       "\n",
       "[116 rows x 62 columns]"
      ]
     },
     "execution_count": 27,
     "metadata": {},
     "output_type": "execute_result"
    }
   ],
   "source": [
    "features_primitive"
   ]
  },
  {
   "cell_type": "code",
   "execution_count": 28,
   "id": "737c6062-5f34-4095-9626-73d489a030bb",
   "metadata": {},
   "outputs": [
    {
     "name": "stdout",
     "output_type": "stream",
     "text": [
      "{'train_mae': ('0.0692', '0.0253'), 'test_mae': ('0.1280', '0.0383'), 'train_mse': ('0.0158', '0.0089'), 'test_mse': ('0.0454', '0.0206'), 'train_r2': ('0.7578', '0.1428'), 'test_r2': ('0.3862', '0.2678')}\n"
     ]
    },
    {
     "data": {
      "text/plain": [
       "<Figure size 432x432 with 0 Axes>"
      ]
     },
     "metadata": {},
     "output_type": "display_data"
    },
    {
     "data": {
      "text/plain": [
       "<Figure size 432x432 with 0 Axes>"
      ]
     },
     "metadata": {},
     "output_type": "display_data"
    },
    {
     "data": {
      "text/plain": [
       "<Figure size 432x432 with 0 Axes>"
      ]
     },
     "metadata": {},
     "output_type": "display_data"
    },
    {
     "data": {
      "text/plain": [
       "<Figure size 432x432 with 0 Axes>"
      ]
     },
     "metadata": {},
     "output_type": "display_data"
    },
    {
     "data": {
      "text/plain": [
       "<Figure size 432x432 with 0 Axes>"
      ]
     },
     "metadata": {},
     "output_type": "display_data"
    }
   ],
   "source": [
    "import sklearn_utils\n",
    "imp.reload(sklearn_utils)\n",
    "from sklearn_utils import run_regressor_nested_cv, run_regressor_manual\n",
    "## FULL DATA GBR\n",
    "from sklearn.ensemble import GradientBoostingRegressor\n",
    "\n",
    "\n",
    "res = run_regressor_nested_cv(features_primitive, target, \n",
    "                        GradientBoostingRegressor, dict(\n",
    "                            n_estimators = np.logspace(1, 2.5, num=5).astype(int),\n",
    "                            max_depth = [1, 5, 6],\n",
    "                            min_samples_split = [2, 3, 4]),\n",
    "                        sample_class=extra_df[\"ads\"],\n",
    "                        view_class=ads_names,\n",
    "                        scaler=StandardScaler, name=\"GB_base\",\n",
    "                        test_split=0.2,\n",
    "                        pp_kws = dict(\n",
    "                            min_max = (-0.8, 0.8))\n",
    "                       )\n",
    "print(res)"
   ]
  },
  {
   "cell_type": "code",
   "execution_count": 29,
   "id": "3a0c0e4a-72f1-44fb-8539-401234f5c6a2",
   "metadata": {},
   "outputs": [
    {
     "name": "stdout",
     "output_type": "stream",
     "text": [
      "{'train_mae': ('0.0231', '0.0179'), 'test_mae': ('0.1301', '0.0369'), 'train_mse': ('0.0021', '0.0025'), 'test_mse': ('0.0524', '0.0237'), 'train_r2': ('0.9693', '0.0367'), 'test_r2': ('0.2733', '0.3577')}\n"
     ]
    },
    {
     "data": {
      "text/plain": [
       "<Figure size 432x432 with 0 Axes>"
      ]
     },
     "metadata": {},
     "output_type": "display_data"
    },
    {
     "data": {
      "text/plain": [
       "<Figure size 432x432 with 0 Axes>"
      ]
     },
     "metadata": {},
     "output_type": "display_data"
    },
    {
     "data": {
      "text/plain": [
       "<Figure size 432x432 with 0 Axes>"
      ]
     },
     "metadata": {},
     "output_type": "display_data"
    },
    {
     "data": {
      "text/plain": [
       "<Figure size 432x432 with 0 Axes>"
      ]
     },
     "metadata": {},
     "output_type": "display_data"
    },
    {
     "data": {
      "text/plain": [
       "<Figure size 432x432 with 0 Axes>"
      ]
     },
     "metadata": {},
     "output_type": "display_data"
    }
   ],
   "source": [
    "## FULL DATA GBR with higher sample-settings\n",
    "from sklearn.ensemble import GradientBoostingRegressor\n",
    "\n",
    "\n",
    "res = run_regressor_nested_cv(features_primitive, target, \n",
    "                        GradientBoostingRegressor, dict(\n",
    "                            n_estimators = np.logspace(1, 2.5, num=10).astype(int),\n",
    "                            max_depth = [1, 3, 5, 6, 8],\n",
    "                            min_samples_split = [4, 6, 10],\n",
    "                        min_samples_leaf = [4,5, 8]),\n",
    "                        sample_class=extra_df[\"ads\"],\n",
    "                        view_class=ads_names,\n",
    "                        scaler=StandardScaler, name=\"GB_base\",\n",
    "                        test_split=0.2,\n",
    "                        pp_kws = dict(\n",
    "                            min_max = (-0.8, 0.8))\n",
    "                       )\n",
    "print(res)"
   ]
  },
  {
   "cell_type": "code",
   "execution_count": 30,
   "id": "0801f146-4e0c-45ba-817b-64f157580dff",
   "metadata": {},
   "outputs": [
    {
     "name": "stdout",
     "output_type": "stream",
     "text": [
      "{'train_mae': (0.1856242885709277, 0.0), 'test_mae': (0.10474875376791905, 0.0), 'train_mse': (0.0826166789804465, 0.0), 'test_mse': (0.02743184854757433, 0.0), 'train_r2': (0.14203637444328943, 0.0), 'test_r2': (-0.8566531056740774, 0.0)}\n"
     ]
    },
    {
     "data": {
      "text/plain": [
       "<Figure size 432x432 with 0 Axes>"
      ]
     },
     "metadata": {},
     "output_type": "display_data"
    }
   ],
   "source": [
    "## GBR trained on 2 adsorbants, tested on another\n",
    "from sklearn.ensemble import GradientBoostingRegressor\n",
    "\n",
    "\n",
    "res = run_regressor_manual(\n",
    "                        features_primitive[ads_names != \"CO2\"], target[ads_names != \"CO2\"],\n",
    "                        features_primitive[ads_names == \"CO2\"], target[ads_names == \"CO2\"],\n",
    "                        GradientBoostingRegressor, dict(\n",
    "                            n_estimators = np.logspace(1, 2.5, num=5).astype(int),\n",
    "                            max_depth = [1, 5, 6],\n",
    "                            min_samples_split = [2, 3, 4]),\n",
    "                        scaler=StandardScaler, name=\"GB_transfer\",\n",
    "                        pp_kws = dict(\n",
    "                            min_max = (-0.8, 0.8))\n",
    "                       )\n",
    "print(res)"
   ]
  },
  {
   "cell_type": "code",
   "execution_count": 31,
   "id": "f31e5b39-425c-416f-9cdc-e00aeb6491f8",
   "metadata": {},
   "outputs": [
    {
     "name": "stdout",
     "output_type": "stream",
     "text": [
      "{'train_mae': ('0.0293', '0.0153'), 'test_mae': ('0.0672', '0.0121'), 'train_mse': ('0.0055', '0.0030'), 'test_mse': ('0.0193', '0.0046'), 'train_r2': ('0.4097', '0.2983'), 'test_r2': ('0.1213', '0.1712')}\n"
     ]
    },
    {
     "data": {
      "text/plain": [
       "<Figure size 432x432 with 0 Axes>"
      ]
     },
     "metadata": {},
     "output_type": "display_data"
    },
    {
     "data": {
      "text/plain": [
       "<Figure size 432x432 with 0 Axes>"
      ]
     },
     "metadata": {},
     "output_type": "display_data"
    },
    {
     "data": {
      "text/plain": [
       "<Figure size 432x432 with 0 Axes>"
      ]
     },
     "metadata": {},
     "output_type": "display_data"
    },
    {
     "data": {
      "text/plain": [
       "<Figure size 432x432 with 0 Axes>"
      ]
     },
     "metadata": {},
     "output_type": "display_data"
    },
    {
     "data": {
      "text/plain": [
       "<Figure size 432x432 with 0 Axes>"
      ]
     },
     "metadata": {},
     "output_type": "display_data"
    }
   ],
   "source": [
    "## GBR trained on subselection\n",
    "from sklearn.ensemble import GradientBoostingRegressor\n",
    "\n",
    "selection = ads_names != \"CO\"\n",
    "prange = [-0.3, 0.1]\n",
    "\n",
    "res = run_regressor_nested_cv(features_primitive[selection], target[selection], \n",
    "                        GradientBoostingRegressor, dict(\n",
    "                            n_estimators = np.logspace(1, 2.5, num=5).astype(int),\n",
    "                            max_depth = [1, 5, 6],\n",
    "                            min_samples_split = [2, 3, 4,],\n",
    "                        ),\n",
    "                        sample_class=ads_names[selection],\n",
    "                        view_class=ads_names[selection],\n",
    "                        scaler=StandardScaler, name=\"GB_single_class\",\n",
    "                        test_split=0.2,\n",
    "                        pp_kws = dict(\n",
    "                            min_max = prange)\n",
    "                       )\n",
    "print(res)"
   ]
  },
  {
   "cell_type": "code",
   "execution_count": 32,
   "id": "9f667707-3897-4319-8cea-d4e2316aac80",
   "metadata": {
    "scrolled": true,
    "tags": []
   },
   "outputs": [
    {
     "name": "stdout",
     "output_type": "stream",
     "text": [
      "{'train_mae': ('0.0274', '0.0222'), 'test_mae': ('0.1385', '0.0365'), 'train_mse': ('0.0031', '0.0036'), 'test_mse': ('0.0500', '0.0239'), 'train_r2': ('0.9551', '0.0522'), 'test_r2': ('0.3146', '0.3326')}\n"
     ]
    },
    {
     "data": {
      "text/plain": [
       "<Figure size 432x432 with 0 Axes>"
      ]
     },
     "metadata": {},
     "output_type": "display_data"
    },
    {
     "data": {
      "text/plain": [
       "<Figure size 432x432 with 0 Axes>"
      ]
     },
     "metadata": {},
     "output_type": "display_data"
    },
    {
     "data": {
      "text/plain": [
       "<Figure size 432x432 with 0 Axes>"
      ]
     },
     "metadata": {},
     "output_type": "display_data"
    },
    {
     "data": {
      "text/plain": [
       "<Figure size 432x432 with 0 Axes>"
      ]
     },
     "metadata": {},
     "output_type": "display_data"
    },
    {
     "data": {
      "text/plain": [
       "<Figure size 432x432 with 0 Axes>"
      ]
     },
     "metadata": {},
     "output_type": "display_data"
    }
   ],
   "source": [
    "from xgboost import XGBRegressor\n",
    "\n",
    "res = run_regressor_nested_cv(features_primitive, target, \n",
    "                        partial(XGBRegressor, random_state=0), dict(\n",
    "                            n_estimators = np.logspace(1, 3.5, num=5).astype(int),\n",
    "                            max_depth = [0, 1, 3, 4, 5, 8],\n",
    "                            learning_rate = [0.1, 0.3, 0.5, 0.7],\n",
    "                            booster = [\"gbtree\", \"gblinear\"]\n",
    "                        ),\n",
    "                        sample_class=extra_df[\"ads\"],\n",
    "                        view_class=ads_names,\n",
    "                        scaler=None, name=\"XGBoost\",\n",
    "                        test_split=0.2,\n",
    "                        pp_kws = dict(\n",
    "                            min_max = (-0.7, 0.7))\n",
    "                       )\n",
    "print(res)"
   ]
  },
  {
   "cell_type": "code",
   "execution_count": 33,
   "id": "d0fb07b8-7140-4c9b-a29c-b77a6a7ec6e2",
   "metadata": {},
   "outputs": [
    {
     "name": "stdout",
     "output_type": "stream",
     "text": [
      "{'train_mae': ('0.0605', '0.0171'), 'test_mae': ('0.1168', '0.0298'), 'train_mse': ('0.0132', '0.0072'), 'test_mse': ('0.0425', '0.0190'), 'train_r2': ('0.8037', '0.1002'), 'test_r2': ('0.4128', '0.2834')}\n"
     ]
    },
    {
     "data": {
      "text/plain": [
       "<Figure size 432x432 with 0 Axes>"
      ]
     },
     "metadata": {},
     "output_type": "display_data"
    },
    {
     "data": {
      "text/plain": [
       "<Figure size 432x432 with 0 Axes>"
      ]
     },
     "metadata": {},
     "output_type": "display_data"
    },
    {
     "data": {
      "text/plain": [
       "<Figure size 432x432 with 0 Axes>"
      ]
     },
     "metadata": {},
     "output_type": "display_data"
    },
    {
     "data": {
      "text/plain": [
       "<Figure size 432x432 with 0 Axes>"
      ]
     },
     "metadata": {},
     "output_type": "display_data"
    },
    {
     "data": {
      "text/plain": [
       "<Figure size 432x432 with 0 Axes>"
      ]
     },
     "metadata": {},
     "output_type": "display_data"
    }
   ],
   "source": [
    "from sklearn.ensemble import RandomForestRegressor\n",
    "\n",
    "\n",
    "res = run_regressor_nested_cv(features_primitive, target, \n",
    "                        partial(RandomForestRegressor, random_state=0), dict(\n",
    "                            n_estimators = np.logspace(1, 3.5, num=5).astype(int),\n",
    "                            max_depth = [None, 5, 10, 20],\n",
    "                            min_samples_split = [2, 5, 10]\n",
    "                        ),\n",
    "                        sample_class=extra_df[\"ads\"],\n",
    "                        view_class=ads_names,\n",
    "                        scaler=None, name=\"RF_basic\",\n",
    "                        test_split=0.2,\n",
    "                        pp_kws = dict(\n",
    "                            min_max = (-0.8, 0.8))\n",
    "                       )\n",
    "print(res)"
   ]
  },
  {
   "cell_type": "code",
   "execution_count": 34,
   "id": "ddf6a6fb-9b85-4087-ba62-33e5e34d42d3",
   "metadata": {},
   "outputs": [
    {
     "name": "stdout",
     "output_type": "stream",
     "text": [
      "{'train_mae': ('0.0986', '0.0168'), 'test_mae': ('0.1370', '0.0238'), 'train_mse': ('0.0361', '0.0092'), 'test_mse': ('0.0626', '0.0193'), 'train_r2': ('0.4570', '0.1218'), 'test_r2': ('0.1286', '0.3129')}\n"
     ]
    },
    {
     "data": {
      "text/plain": [
       "<Figure size 432x432 with 0 Axes>"
      ]
     },
     "metadata": {},
     "output_type": "display_data"
    },
    {
     "data": {
      "text/plain": [
       "<Figure size 432x432 with 0 Axes>"
      ]
     },
     "metadata": {},
     "output_type": "display_data"
    },
    {
     "data": {
      "text/plain": [
       "<Figure size 432x432 with 0 Axes>"
      ]
     },
     "metadata": {},
     "output_type": "display_data"
    },
    {
     "data": {
      "text/plain": [
       "<Figure size 432x432 with 0 Axes>"
      ]
     },
     "metadata": {},
     "output_type": "display_data"
    },
    {
     "data": {
      "text/plain": [
       "<Figure size 432x432 with 0 Axes>"
      ]
     },
     "metadata": {},
     "output_type": "display_data"
    }
   ],
   "source": [
    "from sklearn.kernel_ridge import KernelRidge\n",
    "\n",
    "\n",
    "res = run_regressor_nested_cv(features_primitive, target, \n",
    "                        KernelRidge, dict(\n",
    "                         alpha = np.logspace(-3, 2, num=5),\n",
    "                         kernel= [\"rbf\"],\n",
    "                         gamma = np.logspace(-3, 2, num=5),\n",
    "                        ),\n",
    "                        sample_class=extra_df[\"ads\"],\n",
    "                        view_class=ads_names,\n",
    "                        scaler=None, name=\"KRR_basic\",\n",
    "                        test_split=0.2,\n",
    "                        pp_kws = dict(\n",
    "                            min_max = (-0.8, 0.8))\n",
    "                       )\n",
    "print(res)"
   ]
  },
  {
   "cell_type": "code",
   "execution_count": 35,
   "id": "0def39d6-cc62-4356-8164-181ea669a42b",
   "metadata": {},
   "outputs": [
    {
     "name": "stdout",
     "output_type": "stream",
     "text": [
      "{'train_mae': ('0.0900', '0.0062'), 'test_mae': ('0.1562', '0.0385'), 'train_mse': ('0.0327', '0.0037'), 'test_mse': ('0.0962', '0.0606'), 'train_r2': ('0.5058', '0.0505'), 'test_r2': ('-0.3526', '0.9062')}\n"
     ]
    },
    {
     "data": {
      "text/plain": [
       "<Figure size 432x432 with 0 Axes>"
      ]
     },
     "metadata": {},
     "output_type": "display_data"
    },
    {
     "data": {
      "text/plain": [
       "<Figure size 432x432 with 0 Axes>"
      ]
     },
     "metadata": {},
     "output_type": "display_data"
    },
    {
     "data": {
      "text/plain": [
       "<Figure size 432x432 with 0 Axes>"
      ]
     },
     "metadata": {},
     "output_type": "display_data"
    },
    {
     "data": {
      "text/plain": [
       "<Figure size 432x432 with 0 Axes>"
      ]
     },
     "metadata": {},
     "output_type": "display_data"
    },
    {
     "data": {
      "text/plain": [
       "<Figure size 432x432 with 0 Axes>"
      ]
     },
     "metadata": {},
     "output_type": "display_data"
    }
   ],
   "source": [
    "# KRR WITH MORE REGULARIZATION\n",
    "from sklearn.kernel_ridge import KernelRidge\n",
    "\n",
    "\n",
    "res = run_regressor_nested_cv(features_primitive, target, \n",
    "                        KernelRidge, dict(\n",
    "                         alpha = np.logspace(-4, 2, num=20),\n",
    "                         kernel= [\"rbf\"],\n",
    "                         gamma = np.logspace(-3, 2, num=20),\n",
    "                        ),\n",
    "                        sample_class=extra_df[\"ads\"],\n",
    "                        view_class=ads_names,\n",
    "                        scaler=None, name=\"KRR_basic\",\n",
    "                        test_split=0.2,\n",
    "                        pp_kws = dict(\n",
    "                            min_max = (-0.8, 0.8))\n",
    "                       )\n",
    "print(res)"
   ]
  },
  {
   "cell_type": "code",
   "execution_count": 36,
   "id": "b9f27542-57a2-46d1-ab7b-c12c933992f5",
   "metadata": {},
   "outputs": [
    {
     "name": "stdout",
     "output_type": "stream",
     "text": [
      "{'train_mae': ('0.1371', '0.0033'), 'test_mae': ('0.1598', '0.0132'), 'train_mse': ('0.0642', '0.0026'), 'test_mse': ('0.0780', '0.0096'), 'train_r2': ('0.0279', '0.0125'), 'test_r2': ('-0.0726', '0.0693')}\n"
     ]
    },
    {
     "data": {
      "text/plain": [
       "<Figure size 432x432 with 0 Axes>"
      ]
     },
     "metadata": {},
     "output_type": "display_data"
    },
    {
     "data": {
      "text/plain": [
       "<Figure size 432x432 with 0 Axes>"
      ]
     },
     "metadata": {},
     "output_type": "display_data"
    },
    {
     "data": {
      "text/plain": [
       "<Figure size 432x432 with 0 Axes>"
      ]
     },
     "metadata": {},
     "output_type": "display_data"
    },
    {
     "data": {
      "text/plain": [
       "<Figure size 432x432 with 0 Axes>"
      ]
     },
     "metadata": {},
     "output_type": "display_data"
    },
    {
     "data": {
      "text/plain": [
       "<Figure size 432x432 with 0 Axes>"
      ]
     },
     "metadata": {},
     "output_type": "display_data"
    }
   ],
   "source": [
    "# DUMMY-Baseline. Guess the median for each adsorbant!\n",
    "from sklearn.dummy import DummyRegressor\n",
    "from sklearn_utils import StratifiedMedianRegressor\n",
    "\n",
    "res = run_regressor_nested_cv(extra_df[[\"ads\"]], target, \n",
    "                        partial(StratifiedMedianRegressor), {},\n",
    "                        scaler=StandardScaler, name=\"Dummy\",\n",
    "                        sample_class=extra_df[\"ads\"],\n",
    "                        view_class=ads_names,\n",
    "                        test_split=0.2,\n",
    "                        pp_kws = dict(\n",
    "                            min_max = (-0.8, 0.8))\n",
    "                       )\n",
    "print(res)\n"
   ]
  },
  {
   "cell_type": "code",
   "execution_count": 37,
   "id": "7dc0cc5a-68d9-4809-a551-b52a43a9440b",
   "metadata": {},
   "outputs": [
    {
     "data": {
      "text/plain": [
       "array([ 10,  23,  56, 133, 316])"
      ]
     },
     "execution_count": 37,
     "metadata": {},
     "output_type": "execute_result"
    }
   ],
   "source": [
    "np.logspace(1, 2.5, num=5).astype(int)"
   ]
  },
  {
   "cell_type": "code",
   "execution_count": null,
   "id": "312952ec-397f-4d5e-a0da-eedad9ab8fbd",
   "metadata": {},
   "outputs": [],
   "source": []
  }
 ],
 "metadata": {
  "kernelspec": {
   "display_name": "Python 3",
   "language": "python",
   "name": "python3"
  },
  "language_info": {
   "codemirror_mode": {
    "name": "ipython",
    "version": 3
   },
   "file_extension": ".py",
   "mimetype": "text/x-python",
   "name": "python",
   "nbconvert_exporter": "python",
   "pygments_lexer": "ipython3",
   "version": "3.8.8"
  }
 },
 "nbformat": 4,
 "nbformat_minor": 5
}
