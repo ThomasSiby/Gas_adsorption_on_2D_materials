{
 "cells": [
  {
   "cell_type": "code",
   "execution_count": 44,
   "id": "1ddea199-0424-47e2-af01-ae67396e64af",
   "metadata": {},
   "outputs": [
    {
     "name": "stdout",
     "output_type": "stream",
     "text": [
      "Requirement already satisfied: dscribe in /mnt/projects/sne/felix_tests/pyvenv-39-t111/lib/python3.9/site-packages (1.2.2)\n",
      "Requirement already satisfied: nglview in /mnt/projects/sne/felix_tests/pyvenv-39-t111/lib/python3.9/site-packages (3.0.3)\n",
      "Requirement already satisfied: pybind11>=2.4 in /mnt/system/spack_nfs/spack_22Q4/spack_main/var/spack/environments/python-3p9-torch1p11-cuda-22Q4/.spack-env/._view/fmpdelqic7j6xu2e7potucwvcvv6ml6o/lib/python3.9/site-packages (from dscribe) (2.6.2)\n",
      "Requirement already satisfied: scikit-learn in /mnt/system/spack_nfs/spack_22Q4/spack_main/var/spack/environments/python-3p9-torch1p11-cuda-22Q4/.spack-env/._view/fmpdelqic7j6xu2e7potucwvcvv6ml6o/lib/python3.9/site-packages (from dscribe) (1.1.3)\n",
      "Requirement already satisfied: scipy in /mnt/system/spack_nfs/spack_22Q4/spack_main/var/spack/environments/python-3p9-torch1p11-cuda-22Q4/.spack-env/._view/fmpdelqic7j6xu2e7potucwvcvv6ml6o/lib/python3.9/site-packages (from dscribe) (1.8.1)\n",
      "Requirement already satisfied: sparse in /mnt/projects/sne/felix_tests/pyvenv-39-t111/lib/python3.9/site-packages (from dscribe) (0.13.0)\n",
      "Requirement already satisfied: joblib>=1.0.0 in /mnt/system/spack_nfs/spack_22Q4/spack_main/var/spack/environments/python-3p9-torch1p11-cuda-22Q4/.spack-env/._view/fmpdelqic7j6xu2e7potucwvcvv6ml6o/lib/python3.9/site-packages (from dscribe) (1.2.0)\n",
      "Requirement already satisfied: numpy in /mnt/system/spack_nfs/spack_22Q4/spack_main/var/spack/environments/python-3p9-torch1p11-cuda-22Q4/.spack-env/._view/fmpdelqic7j6xu2e7potucwvcvv6ml6o/lib/python3.9/site-packages (from dscribe) (1.22.4)\n",
      "Requirement already satisfied: ase>=3.19.0 in /mnt/projects/sne/felix_tests/pyvenv-39-t111/lib/python3.9/site-packages (from dscribe) (3.22.1)\n",
      "Requirement already satisfied: ipywidgets>=7 in /mnt/projects/sne/felix_tests/pyvenv-39-t111/lib/python3.9/site-packages (from nglview) (8.0.4)\n",
      "Requirement already satisfied: jupyterlab-widgets in /mnt/projects/sne/felix_tests/pyvenv-39-t111/lib/python3.9/site-packages (from nglview) (3.0.5)\n",
      "Requirement already satisfied: matplotlib>=3.1.0 in /mnt/system/spack_nfs/spack_22Q4/spack_main/var/spack/environments/python-3p9-torch1p11-cuda-22Q4/.spack-env/._view/fmpdelqic7j6xu2e7potucwvcvv6ml6o/lib/python3.9/site-packages (from ase>=3.19.0->dscribe) (3.6.1)\n",
      "Requirement already satisfied: ipykernel>=4.5.1 in /mnt/projects/sne/felix_tests/pyvenv-39-t111/lib/python3.9/site-packages (from ipywidgets>=7->nglview) (6.19.2)\n",
      "Requirement already satisfied: traitlets>=4.3.1 in /mnt/projects/sne/felix_tests/pyvenv-39-t111/lib/python3.9/site-packages (from ipywidgets>=7->nglview) (5.7.1)\n",
      "Requirement already satisfied: widgetsnbextension~=4.0 in /mnt/projects/sne/felix_tests/pyvenv-39-t111/lib/python3.9/site-packages (from ipywidgets>=7->nglview) (4.0.5)\n",
      "Requirement already satisfied: ipython>=6.1.0 in /mnt/projects/sne/felix_tests/pyvenv-39-t111/lib/python3.9/site-packages (from ipywidgets>=7->nglview) (8.7.0)\n",
      "Requirement already satisfied: threadpoolctl>=2.0.0 in /mnt/system/spack_nfs/spack_22Q4/spack_main/var/spack/environments/python-3p9-torch1p11-cuda-22Q4/.spack-env/._view/fmpdelqic7j6xu2e7potucwvcvv6ml6o/lib/python3.9/site-packages (from scikit-learn->dscribe) (3.1.0)\n",
      "Requirement already satisfied: numba>=0.49 in /mnt/system/spack_nfs/spack_22Q4/spack_main/var/spack/environments/python-3p9-torch1p11-cuda-22Q4/.spack-env/._view/fmpdelqic7j6xu2e7potucwvcvv6ml6o/lib/python3.9/site-packages (from sparse->dscribe) (0.56.0)\n",
      "Requirement already satisfied: nest-asyncio in /mnt/projects/sne/felix_tests/pyvenv-39-t111/lib/python3.9/site-packages (from ipykernel>=4.5.1->ipywidgets>=7->nglview) (1.5.6)\n",
      "Requirement already satisfied: comm>=0.1.1 in /mnt/projects/sne/felix_tests/pyvenv-39-t111/lib/python3.9/site-packages (from ipykernel>=4.5.1->ipywidgets>=7->nglview) (0.1.2)\n",
      "Requirement already satisfied: matplotlib-inline>=0.1 in /mnt/projects/sne/felix_tests/pyvenv-39-t111/lib/python3.9/site-packages (from ipykernel>=4.5.1->ipywidgets>=7->nglview) (0.1.6)\n",
      "Requirement already satisfied: debugpy>=1.0 in /mnt/projects/sne/felix_tests/pyvenv-39-t111/lib/python3.9/site-packages (from ipykernel>=4.5.1->ipywidgets>=7->nglview) (1.6.4)\n",
      "Requirement already satisfied: pyzmq>=17 in /mnt/projects/sne/felix_tests/pyvenv-39-t111/lib/python3.9/site-packages (from ipykernel>=4.5.1->ipywidgets>=7->nglview) (24.0.1)\n",
      "Requirement already satisfied: tornado>=6.1 in /mnt/projects/sne/felix_tests/pyvenv-39-t111/lib/python3.9/site-packages (from ipykernel>=4.5.1->ipywidgets>=7->nglview) (6.2)\n",
      "Requirement already satisfied: psutil in /mnt/projects/sne/felix_tests/pyvenv-39-t111/lib/python3.9/site-packages (from ipykernel>=4.5.1->ipywidgets>=7->nglview) (5.9.4)\n",
      "Requirement already satisfied: jupyter-client>=6.1.12 in /mnt/projects/sne/felix_tests/pyvenv-39-t111/lib/python3.9/site-packages (from ipykernel>=4.5.1->ipywidgets>=7->nglview) (7.4.8)\n",
      "Requirement already satisfied: packaging in /mnt/system/spack_nfs/spack_22Q4/spack_main/var/spack/environments/python-3p9-torch1p11-cuda-22Q4/.spack-env/._view/fmpdelqic7j6xu2e7potucwvcvv6ml6o/lib/python3.9/site-packages (from ipykernel>=4.5.1->ipywidgets>=7->nglview) (21.3)\n",
      "Requirement already satisfied: jedi>=0.16 in /mnt/projects/sne/felix_tests/pyvenv-39-t111/lib/python3.9/site-packages (from ipython>=6.1.0->ipywidgets>=7->nglview) (0.18.2)\n",
      "Requirement already satisfied: pickleshare in /mnt/projects/sne/felix_tests/pyvenv-39-t111/lib/python3.9/site-packages (from ipython>=6.1.0->ipywidgets>=7->nglview) (0.7.5)\n",
      "Requirement already satisfied: decorator in /mnt/projects/sne/felix_tests/pyvenv-39-t111/lib/python3.9/site-packages (from ipython>=6.1.0->ipywidgets>=7->nglview) (5.1.1)\n",
      "Requirement already satisfied: stack-data in /mnt/projects/sne/felix_tests/pyvenv-39-t111/lib/python3.9/site-packages (from ipython>=6.1.0->ipywidgets>=7->nglview) (0.6.2)\n",
      "Requirement already satisfied: backcall in /mnt/projects/sne/felix_tests/pyvenv-39-t111/lib/python3.9/site-packages (from ipython>=6.1.0->ipywidgets>=7->nglview) (0.2.0)\n",
      "Requirement already satisfied: pexpect>4.3 in /mnt/projects/sne/felix_tests/pyvenv-39-t111/lib/python3.9/site-packages (from ipython>=6.1.0->ipywidgets>=7->nglview) (4.8.0)\n",
      "Requirement already satisfied: prompt-toolkit<3.1.0,>=3.0.11 in /mnt/projects/sne/felix_tests/pyvenv-39-t111/lib/python3.9/site-packages (from ipython>=6.1.0->ipywidgets>=7->nglview) (3.0.36)\n",
      "Requirement already satisfied: pygments>=2.4.0 in /mnt/projects/sne/felix_tests/pyvenv-39-t111/lib/python3.9/site-packages (from ipython>=6.1.0->ipywidgets>=7->nglview) (2.13.0)\n",
      "Requirement already satisfied: python-dateutil>=2.7 in /mnt/system/spack_nfs/spack_22Q4/spack_main/var/spack/environments/python-3p9-torch1p11-cuda-22Q4/.spack-env/._view/fmpdelqic7j6xu2e7potucwvcvv6ml6o/lib/python3.9/site-packages (from matplotlib>=3.1.0->ase>=3.19.0->dscribe) (2.8.2)\n",
      "Requirement already satisfied: contourpy>=1.0.1 in /mnt/system/spack_nfs/spack_22Q4/spack_main/var/spack/environments/python-3p9-torch1p11-cuda-22Q4/.spack-env/._view/fmpdelqic7j6xu2e7potucwvcvv6ml6o/lib/python3.9/site-packages (from matplotlib>=3.1.0->ase>=3.19.0->dscribe) (1.0.5)\n",
      "Requirement already satisfied: pyparsing>=2.2.1 in /mnt/system/spack_nfs/spack_22Q4/spack_main/var/spack/environments/python-3p9-torch1p11-cuda-22Q4/.spack-env/._view/fmpdelqic7j6xu2e7potucwvcvv6ml6o/lib/python3.9/site-packages (from matplotlib>=3.1.0->ase>=3.19.0->dscribe) (3.0.9)\n",
      "Requirement already satisfied: kiwisolver>=1.0.1 in /mnt/system/spack_nfs/spack_22Q4/spack_main/var/spack/environments/python-3p9-torch1p11-cuda-22Q4/.spack-env/._view/fmpdelqic7j6xu2e7potucwvcvv6ml6o/lib/python3.9/site-packages (from matplotlib>=3.1.0->ase>=3.19.0->dscribe) (1.3.2)\n",
      "Requirement already satisfied: pillow>=6.2.0 in /mnt/system/spack_nfs/spack_22Q4/spack_main/var/spack/environments/python-3p9-torch1p11-cuda-22Q4/.spack-env/._view/fmpdelqic7j6xu2e7potucwvcvv6ml6o/lib/python3.9/site-packages (from matplotlib>=3.1.0->ase>=3.19.0->dscribe) (9.2.0)\n",
      "Requirement already satisfied: fonttools>=4.22.0 in /mnt/system/spack_nfs/spack_22Q4/spack_main/var/spack/environments/python-3p9-torch1p11-cuda-22Q4/.spack-env/._view/fmpdelqic7j6xu2e7potucwvcvv6ml6o/lib/python3.9/site-packages (from matplotlib>=3.1.0->ase>=3.19.0->dscribe) (4.37.3)\n",
      "Requirement already satisfied: cycler>=0.10 in /mnt/system/spack_nfs/spack_22Q4/spack_main/var/spack/environments/python-3p9-torch1p11-cuda-22Q4/.spack-env/._view/fmpdelqic7j6xu2e7potucwvcvv6ml6o/lib/python3.9/site-packages (from matplotlib>=3.1.0->ase>=3.19.0->dscribe) (0.11.0)\n",
      "Requirement already satisfied: llvmlite<0.40,>=0.39.0dev0 in /mnt/system/spack_nfs/spack_22Q4/spack_main/var/spack/environments/python-3p9-torch1p11-cuda-22Q4/.spack-env/._view/fmpdelqic7j6xu2e7potucwvcvv6ml6o/lib/python3.9/site-packages (from numba>=0.49->sparse->dscribe) (0.39.0)\n",
      "Requirement already satisfied: setuptools in /mnt/system/spack_nfs/spack_22Q4/spack_main/var/spack/environments/python-3p9-torch1p11-cuda-22Q4/.spack-env/._view/fmpdelqic7j6xu2e7potucwvcvv6ml6o/lib/python3.9/site-packages (from numba>=0.49->sparse->dscribe) (59.4.0)\n",
      "Requirement already satisfied: parso<0.9.0,>=0.8.0 in /mnt/projects/sne/felix_tests/pyvenv-39-t111/lib/python3.9/site-packages (from jedi>=0.16->ipython>=6.1.0->ipywidgets>=7->nglview) (0.8.3)\n",
      "Requirement already satisfied: entrypoints in /mnt/projects/sne/felix_tests/pyvenv-39-t111/lib/python3.9/site-packages (from jupyter-client>=6.1.12->ipykernel>=4.5.1->ipywidgets>=7->nglview) (0.4)\n",
      "Requirement already satisfied: jupyter-core>=4.9.2 in /mnt/projects/sne/felix_tests/pyvenv-39-t111/lib/python3.9/site-packages (from jupyter-client>=6.1.12->ipykernel>=4.5.1->ipywidgets>=7->nglview) (5.1.0)\n",
      "Requirement already satisfied: ptyprocess>=0.5 in /mnt/projects/sne/felix_tests/pyvenv-39-t111/lib/python3.9/site-packages (from pexpect>4.3->ipython>=6.1.0->ipywidgets>=7->nglview) (0.7.0)\n",
      "Requirement already satisfied: wcwidth in /mnt/projects/sne/felix_tests/pyvenv-39-t111/lib/python3.9/site-packages (from prompt-toolkit<3.1.0,>=3.0.11->ipython>=6.1.0->ipywidgets>=7->nglview) (0.2.5)\n",
      "Requirement already satisfied: six>=1.5 in /mnt/system/spack_nfs/spack_22Q4/spack_main/var/spack/environments/python-3p9-torch1p11-cuda-22Q4/.spack-env/._view/fmpdelqic7j6xu2e7potucwvcvv6ml6o/lib/python3.9/site-packages (from python-dateutil>=2.7->matplotlib>=3.1.0->ase>=3.19.0->dscribe) (1.16.0)\n",
      "Requirement already satisfied: executing>=1.2.0 in /mnt/projects/sne/felix_tests/pyvenv-39-t111/lib/python3.9/site-packages (from stack-data->ipython>=6.1.0->ipywidgets>=7->nglview) (1.2.0)\n",
      "Requirement already satisfied: pure-eval in /mnt/projects/sne/felix_tests/pyvenv-39-t111/lib/python3.9/site-packages (from stack-data->ipython>=6.1.0->ipywidgets>=7->nglview) (0.2.2)\n",
      "Requirement already satisfied: asttokens>=2.1.0 in /mnt/projects/sne/felix_tests/pyvenv-39-t111/lib/python3.9/site-packages (from stack-data->ipython>=6.1.0->ipywidgets>=7->nglview) (2.2.1)\n",
      "Requirement already satisfied: platformdirs>=2.5 in /mnt/projects/sne/felix_tests/pyvenv-39-t111/lib/python3.9/site-packages (from jupyter-core>=4.9.2->jupyter-client>=6.1.12->ipykernel>=4.5.1->ipywidgets>=7->nglview) (2.6.0)\n",
      "\n",
      "\u001b[1m[\u001b[0m\u001b[34;49mnotice\u001b[0m\u001b[1;39;49m]\u001b[0m\u001b[39;49m A new release of pip available: \u001b[0m\u001b[31;49m22.2.2\u001b[0m\u001b[39;49m -> \u001b[0m\u001b[32;49m22.3.1\u001b[0m\n",
      "\u001b[1m[\u001b[0m\u001b[34;49mnotice\u001b[0m\u001b[1;39;49m]\u001b[0m\u001b[39;49m To update, run: \u001b[0m\u001b[32;49mpip install --upgrade pip\u001b[0m\n"
     ]
    }
   ],
   "source": [
    "!python -m pip install dscribe nglview"
   ]
  },
  {
   "cell_type": "code",
   "execution_count": 99,
   "id": "1973b228-f6a4-4153-af5d-b3e7bfacca1a",
   "metadata": {},
   "outputs": [],
   "source": [
    "from functools import partial\n",
    "\n",
    "import os\n",
    "\n",
    "import numpy as np\n",
    "import pandas as pd\n",
    "\n",
    "from sklearn.preprocessing import StandardScaler, MinMaxScaler\n",
    "\n",
    "import cloudpickle\n",
    "import json\n",
    "\n",
    "# plotting\n",
    "import matplotlib.pyplot as plt\n",
    "\n",
    "import importlib as imp\n",
    "import sklearn_utils\n",
    "imp.reload(sklearn_utils)\n",
    "from sklearn_utils import run_regressor_nested_cv\n",
    "\n",
    "import ase\n",
    "import ase.io\n",
    "\n",
    "import dscribe"
   ]
  },
  {
   "cell_type": "code",
   "execution_count": 100,
   "id": "8f4bc7e3-e9c1-4ea6-8ea7-a84ecd530bb2",
   "metadata": {},
   "outputs": [
    {
     "data": {
      "text/plain": [
       "[]"
      ]
     },
     "execution_count": 100,
     "metadata": {},
     "output_type": "execute_result"
    }
   ],
   "source": [
    "data = pd.read_excel(\"data/dataset_pp.2022-12-09.xlsx\", index_col=0)\n",
    "for folder in [p for p in data[\"path\"] if not os.path.exists(os.path.join(p, \"POSCAR\"))]:\n",
    "    os.rename(os.path.join(folder, \"POSCAR.vasp\"), os.path.join(folder, \"POSCAR\"))\n",
    "[p for p in data[\"path\"] if not os.path.exists(os.path.join(p, \"POSCAR\"))]"
   ]
  },
  {
   "cell_type": "code",
   "execution_count": 101,
   "id": "f2050573-90c3-4ab3-973f-19564bc532ad",
   "metadata": {},
   "outputs": [],
   "source": [
    "data = pd.read_excel(\"data/dataset_pp.2022-12-09.xlsx\", index_col=0)\n",
    "data[\"structure\"] = [ase.io.read(os.path.join(p, \"POSCAR\")) for p in data[\"path\"]]\n",
    "\n",
    "extra_features = data[\"System\"].str.split(\"-\")\n",
    "extra_df = pd.DataFrame.from_dict(dict(zip(extra_features.index, extra_features.values))).T\n",
    "extra_df.columns = [\"...\", \"sys\", \"pos\", \"ads\"]\n",
    "extra_df = extra_df.iloc[:, 1:]\n",
    "ads_names = extra_df[\"ads\"]\n",
    "ads_cats = ads_names.astype(\"category\").cat.codes\n",
    "\n",
    "\n",
    "from dscribe.descriptors import SOAP\n",
    "soap_sub = SOAP(species=[\"Mg\"], periodic=True, r_cut=2, n_max=2, l_max=2,\n",
    "                average=\"outer\")\n",
    "\n",
    "soap_ads = SOAP(species=[\"C\", \"H\", \"O\", \"Mg\"], periodic=True, r_cut=4.0, n_max=4, l_max=3,\n",
    "                average=\"outer\")\n"
   ]
  },
  {
   "cell_type": "code",
   "execution_count": 102,
   "id": "1df56b82-daf1-4ade-82d8-a128ec9b60c1",
   "metadata": {},
   "outputs": [
    {
     "name": "stdout",
     "output_type": "stream",
     "text": [
      "\n",
      "[ 3.00807222  7.48893484 14.17360878] [ 3.00807222  7.48893484 10.87250042] (116, 9) (116, 544) (116, 553)\n"
     ]
    }
   ],
   "source": [
    "allfp_sub = []\n",
    "allfp_ads = []\n",
    "\n",
    "for s in data[\"structure\"].to_list():\n",
    "    substrate_index = np.array(s.get_chemical_symbols()) == \"Mg\"\n",
    "    substrate = s[substrate_index]\n",
    "    adsorbant = s[np.logical_not(substrate_index)]\n",
    "    sub_z = substrate.positions[:,2].min()\n",
    "    ads_C = adsorbant.positions[adsorbant.numbers == 6][0]\n",
    "    ads_C_z = ads_C[2]\n",
    "    ads_ref = ads_C.copy()\n",
    "    ads_ref[2] -= (ads_C_z - sub_z)\n",
    "    ads_ref_atom = ase.Atoms(\"Mg\", [ads_ref,])\n",
    "    ads_fp_sys = adsorbant + ads_ref_atom\n",
    "    \n",
    "    # substrate fp\n",
    "    fp_sub = soap_sub.create([substrate])\n",
    "    # full structure fp around the adsorbant\n",
    "    #fp_sub = soap_ads.create([s], [[ads_ref,]])\n",
    "    # reference system only\n",
    "    fp_ads = soap_ads.create([ads_fp_sys], [[ads_ref],])\n",
    "    \n",
    "    allfp_sub.append(fp_sub)\n",
    "    allfp_ads.append(fp_ads)\n",
    "    \n",
    "allfp_sub = np.array(allfp_sub)\n",
    "allfp_ads = np.array(allfp_ads)\n",
    "\n",
    "total_fp = np.hstack([allfp_sub, allfp_ads])\n",
    "target = data[\"E_ads\"]\n",
    "print()\n",
    "from ase.visualize import view\n",
    "print(ads_C, ads_ref, allfp_sub.shape, allfp_ads.shape, total_fp.shape)"
   ]
  },
  {
   "cell_type": "code",
   "execution_count": 111,
   "id": "92c8f97c-ebf3-4035-90fe-77cd662fd05f",
   "metadata": {},
   "outputs": [
    {
     "name": "stdout",
     "output_type": "stream",
     "text": [
      "{'train_mae': ('0.1013', '0.0061'), 'test_mae': ('0.1330', '0.0297'), 'train_mse': ('0.0342', '0.0051'), 'test_mse': ('0.0551', '0.0181'), 'train_r2': ('0.4841', '0.0649'), 'test_r2': ('0.2476', '0.2390')}\n"
     ]
    },
    {
     "data": {
      "text/plain": [
       "<Figure size 600x600 with 0 Axes>"
      ]
     },
     "metadata": {},
     "output_type": "display_data"
    },
    {
     "data": {
      "text/plain": [
       "<Figure size 600x600 with 0 Axes>"
      ]
     },
     "metadata": {},
     "output_type": "display_data"
    },
    {
     "data": {
      "text/plain": [
       "<Figure size 600x600 with 0 Axes>"
      ]
     },
     "metadata": {},
     "output_type": "display_data"
    },
    {
     "data": {
      "text/plain": [
       "<Figure size 600x600 with 0 Axes>"
      ]
     },
     "metadata": {},
     "output_type": "display_data"
    },
    {
     "data": {
      "text/plain": [
       "<Figure size 600x600 with 0 Axes>"
      ]
     },
     "metadata": {},
     "output_type": "display_data"
    }
   ],
   "source": [
    "from sklearn.kernel_ridge import KernelRidge\n",
    "from sklearn.svm import SVR\n",
    "\n",
    "from sklearn.decomposition import PCA\n",
    "\n",
    "total_fp_pca = PCA(n_components=20).fit_transform(total_fp)\n",
    "\n",
    "res = run_regressor_nested_cv(total_fp, target, \n",
    "                        partial(KernelRidge), dict(\n",
    "                         alpha = np.logspace(-3, 4, num=20),\n",
    "                         kernel= [\"rbf\"],\n",
    "                         gamma = np.logspace(-3, 4, num=20),\n",
    "                        ),\n",
    "                        sample_class=ads_cats,\n",
    "                        view_class=ads_names,\n",
    "                        test_split=0.2,\n",
    "                        scaler=None, name=\"SOAP_KRR\",\n",
    "                        pp_kws = dict(\n",
    "                            min_max = (-0.8, 0.8))\n",
    "                       )\n",
    "print(res)"
   ]
  },
  {
   "cell_type": "code",
   "execution_count": 112,
   "id": "1215b45a-c99b-4274-8d3a-e73bbf8c03eb",
   "metadata": {},
   "outputs": [
    {
     "name": "stdout",
     "output_type": "stream",
     "text": [
      "{'train_mae': ('0.0702', '0.0060'), 'test_mae': ('0.1061', '0.0368'), 'train_mse': ('0.0187', '0.0026'), 'test_mse': ('0.0461', '0.0329'), 'train_r2': ('0.7043', '0.0748'), 'test_r2': ('0.3726', '0.1916')}\n"
     ]
    },
    {
     "data": {
      "text/plain": [
       "<Figure size 600x600 with 0 Axes>"
      ]
     },
     "metadata": {},
     "output_type": "display_data"
    },
    {
     "data": {
      "text/plain": [
       "<Figure size 600x600 with 0 Axes>"
      ]
     },
     "metadata": {},
     "output_type": "display_data"
    },
    {
     "data": {
      "text/plain": [
       "<Figure size 600x600 with 0 Axes>"
      ]
     },
     "metadata": {},
     "output_type": "display_data"
    },
    {
     "data": {
      "text/plain": [
       "<Figure size 600x600 with 0 Axes>"
      ]
     },
     "metadata": {},
     "output_type": "display_data"
    },
    {
     "data": {
      "text/plain": [
       "<Figure size 600x600 with 0 Axes>"
      ]
     },
     "metadata": {},
     "output_type": "display_data"
    }
   ],
   "source": [
    "\n",
    "from sklearn.ensemble import RandomForestRegressor\n",
    "\n",
    "total_fp_pca = PCA(n_components=20).fit_transform(total_fp)\n",
    "\n",
    "res = run_regressor_nested_cv(total_fp, target, \n",
    "                        partial(RandomForestRegressor, random_state=0), dict(\n",
    "                            n_estimators = np.logspace(1, 3.5, num=5).astype(int),\n",
    "                            max_depth = [None, 5, 10, 20],\n",
    "                            min_samples_split = [2, 5, 10]\n",
    "                        ),\n",
    "                        #sample_class=ads_cats,\n",
    "                        view_class=ads_names,\n",
    "                        test_split=0.2,\n",
    "                        scaler=None, name=\"SOAP_RF\",\n",
    "                        pp_kws = dict(\n",
    "                            min_max = (-0.8, 0.8))\n",
    "                       )\n",
    "print(res)"
   ]
  },
  {
   "cell_type": "code",
   "execution_count": 113,
   "id": "4d1d9168-da1f-4ec1-b287-9577c2f6c36b",
   "metadata": {},
   "outputs": [
    {
     "name": "stdout",
     "output_type": "stream",
     "text": [
      "{'train_mae': ('0.0738', '0.0100'), 'test_mae': ('0.1497', '0.0324'), 'train_mse': ('0.0175', '0.0046'), 'test_mse': ('0.0706', '0.0252'), 'train_r2': ('0.7358', '0.0635'), 'test_r2': ('0.0521', '0.2450')}\n"
     ]
    },
    {
     "data": {
      "text/plain": [
       "<Figure size 600x600 with 0 Axes>"
      ]
     },
     "metadata": {},
     "output_type": "display_data"
    },
    {
     "data": {
      "text/plain": [
       "<Figure size 600x600 with 0 Axes>"
      ]
     },
     "metadata": {},
     "output_type": "display_data"
    },
    {
     "data": {
      "text/plain": [
       "<Figure size 600x600 with 0 Axes>"
      ]
     },
     "metadata": {},
     "output_type": "display_data"
    },
    {
     "data": {
      "text/plain": [
       "<Figure size 600x600 with 0 Axes>"
      ]
     },
     "metadata": {},
     "output_type": "display_data"
    },
    {
     "data": {
      "text/plain": [
       "<Figure size 600x600 with 0 Axes>"
      ]
     },
     "metadata": {},
     "output_type": "display_data"
    }
   ],
   "source": [
    "import sklearn_utils\n",
    "imp.reload(sklearn_utils)\n",
    "from sklearn_utils import run_regressor_nested_cv, run_regressor_manual\n",
    "## FULL DATA GBR\n",
    "from sklearn.ensemble import GradientBoostingRegressor\n",
    "\n",
    "\n",
    "res = run_regressor_nested_cv(total_fp, target, \n",
    "                        partial(GradientBoostingRegressor, random_state=0), dict(\n",
    "                            n_estimators = np.logspace(1, 2.5, num=5).astype(int),\n",
    "                            max_depth = [1, 5, 6],\n",
    "                            min_samples_split = [2, 3, 4]),\n",
    "                        sample_class=ads_cats,\n",
    "                        view_class=ads_names,\n",
    "                        scaler=StandardScaler, name=\"SOAP_GB_base\",\n",
    "                        test_split=0.2,\n",
    "                        pp_kws = dict(\n",
    "                            min_max = (-0.8, 0.8))\n",
    "                       )\n",
    "print(res)"
   ]
  },
  {
   "cell_type": "code",
   "execution_count": null,
   "id": "cbcfc09a-88de-498f-bde7-56ed2ff9c1a2",
   "metadata": {},
   "outputs": [],
   "source": []
  }
 ],
 "metadata": {
  "kernelspec": {
   "display_name": "Python 3 (ipykernel)",
   "language": "python",
   "name": "python3"
  },
  "language_info": {
   "codemirror_mode": {
    "name": "ipython",
    "version": 3
   },
   "file_extension": ".py",
   "mimetype": "text/x-python",
   "name": "python",
   "nbconvert_exporter": "python",
   "pygments_lexer": "ipython3",
   "version": "3.9.15"
  }
 },
 "nbformat": 4,
 "nbformat_minor": 5
}
