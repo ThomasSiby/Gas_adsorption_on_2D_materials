{
 "cells": [
  {
   "cell_type": "code",
   "execution_count": 36,
   "id": "5370f97a-c4b4-4202-b238-968dec1c6999",
   "metadata": {},
   "outputs": [
    {
     "data": {
      "text/plain": [
       "'C:\\\\Users\\\\ge47yej\\\\Siby_Research\\\\Mg-ML+GAS_from_FELIX\\\\to_upload_Github'"
      ]
     },
     "execution_count": 36,
     "metadata": {},
     "output_type": "execute_result"
    }
   ],
   "source": [
    "import os\n",
    "import re\n",
    "\n",
    "import pandas as pd\n",
    "os.getcwd()"
   ]
  },
  {
   "cell_type": "code",
   "execution_count": 37,
   "id": "fc244eb9-d70d-467e-a89b-e09c2266d11c",
   "metadata": {},
   "outputs": [
    {
     "name": "stdout",
     "output_type": "stream",
     "text": [
      "119\n"
     ]
    }
   ],
   "source": [
    "rawstruc_fn = \"./data/siby-manganese-raw\"\n",
    "datafolders = []\n",
    "for folder, dirnames, filenames in os.walk(rawstruc_fn):\n",
    "    if \"CONTCAR\" in filenames:\n",
    "        datafolders.append(folder)\n",
    "print(len(datafolders))"
   ]
  },
  {
   "cell_type": "code",
   "execution_count": 38,
   "id": "3eddcf2e-7049-4803-bdb6-3210e92bda1d",
   "metadata": {},
   "outputs": [
    {
     "name": "stdout",
     "output_type": "stream",
     "text": [
      "Missing OUTCAR ./data/siby-manganese-raw\\1-CO\\1-PR\\2-OT-h\n"
     ]
    }
   ],
   "source": [
    "datafolders2canonical = {}\n",
    "site_lookup = {\"OT-h\" : \"Oh\", \"OT-v\" : \"Ov\", \"OT-v1\" : \"Ov1\",\n",
    "               \"Br-h\" : \"Bh\", \"Br-v\" : \"Bv\", \"Br-v1\" : \"Bv1\", \n",
    "               \"H-h\" : \"Hh\", \"H-v\" : \"Hv\", \"H-v1\" : \"Hv1\", \n",
    "               \"defect-v1\" : \"Dv1\", 'defcet-v' : \"Dv\", 'defect-v': \"Dv\",\n",
    "               'defect-h' : \"Dh\", \"def\" : \"D\", \"def2\" : \"D2\"}\n",
    "               \n",
    "for df in datafolders:\n",
    "    naming = re.match(fr\"{rawstruc_fn}[/\\\\][0-9]-(.*?)[/\\\\][0-9]-(.*?)[/\\\\][0-9]+-(.*)\",\n",
    "                     df)\n",
    "    if not naming:\n",
    "        print(\"PROBLEM MATCHING: \", df)\n",
    "        continue\n",
    "    adsorbant, sys, site = naming.groups()\n",
    "    try:\n",
    "        canonical_site = site_lookup[site]\n",
    "    except Exception as e:\n",
    "        print(df)\n",
    "        raise e\n",
    "    \n",
    "    try:\n",
    "        with open(os.path.join(df, \"OUTCAR\")) as outcar:\n",
    "            final_energy = float(\n",
    "                re.findall(r'free energy\\s+TOTEN\\s+=\\s+([0-9-]+.[0-9]+) eV', outcar.read())[-1])\n",
    "    except FileNotFoundError as e:\n",
    "        final_energy = None\n",
    "        print(\"Missing OUTCAR\", df)\n",
    "    except Exception:\n",
    "        final_energy = None\n",
    "        print(df)\n",
    "        \n",
    "    datafolders2canonical[df] = (f\"Mg-{sys}-{canonical_site}-{adsorbant}\", final_energy)\n",
    "    \n",
    "keys2folders = {}\n",
    "for k, v in datafolders2canonical.items():\n",
    "    if v[0] not in keys2folders.keys():\n",
    "        keys2folders[v[0]] = {\"path\" : k, \"check_energy\" : v[1]}\n",
    "    else:\n",
    "        print(v, \": \", k, all_files[v])\n",
    "        break"
   ]
  },
  {
   "cell_type": "code",
   "execution_count": 39,
   "id": "df3d580f",
   "metadata": {},
   "outputs": [
    {
     "data": {
      "text/html": [
       "<div>\n",
       "<style scoped>\n",
       "    .dataframe tbody tr th:only-of-type {\n",
       "        vertical-align: middle;\n",
       "    }\n",
       "\n",
       "    .dataframe tbody tr th {\n",
       "        vertical-align: top;\n",
       "    }\n",
       "\n",
       "    .dataframe thead th {\n",
       "        text-align: right;\n",
       "    }\n",
       "</style>\n",
       "<table border=\"1\" class=\"dataframe\">\n",
       "  <thead>\n",
       "    <tr style=\"text-align: right;\">\n",
       "      <th></th>\n",
       "      <th>path</th>\n",
       "      <th>check_energy</th>\n",
       "    </tr>\n",
       "  </thead>\n",
       "  <tbody>\n",
       "    <tr>\n",
       "      <th>Mg-PR-Hh-CO</th>\n",
       "      <td>./data/siby-manganese-raw\\1-CO\\1-PR\\1-H-h</td>\n",
       "      <td>-38.994429</td>\n",
       "    </tr>\n",
       "    <tr>\n",
       "      <th>Mg-PR-Oh-CO</th>\n",
       "      <td>./data/siby-manganese-raw\\1-CO\\1-PR\\2-OT-h</td>\n",
       "      <td>NaN</td>\n",
       "    </tr>\n",
       "    <tr>\n",
       "      <th>Mg-PR-Bh-CO</th>\n",
       "      <td>./data/siby-manganese-raw\\1-CO\\1-PR\\3-Br-h</td>\n",
       "      <td>-38.946718</td>\n",
       "    </tr>\n",
       "    <tr>\n",
       "      <th>Mg-PR-Hv-CO</th>\n",
       "      <td>./data/siby-manganese-raw\\1-CO\\1-PR\\4-H-v</td>\n",
       "      <td>-38.996568</td>\n",
       "    </tr>\n",
       "    <tr>\n",
       "      <th>Mg-PR-Ov-CO</th>\n",
       "      <td>./data/siby-manganese-raw\\1-CO\\1-PR\\5-OT-v</td>\n",
       "      <td>-38.688407</td>\n",
       "    </tr>\n",
       "    <tr>\n",
       "      <th>...</th>\n",
       "      <td>...</td>\n",
       "      <td>...</td>\n",
       "    </tr>\n",
       "    <tr>\n",
       "      <th>Mg-DV2-D-CH4</th>\n",
       "      <td>./data/siby-manganese-raw\\3-CH4\\4-DV2\\4-def</td>\n",
       "      <td>-44.088889</td>\n",
       "    </tr>\n",
       "    <tr>\n",
       "      <th>Mg-DV2-Hv-CH4</th>\n",
       "      <td>./data/siby-manganese-raw\\3-CH4\\4-DV2\\5-H-v</td>\n",
       "      <td>-43.926195</td>\n",
       "    </tr>\n",
       "    <tr>\n",
       "      <th>Mg-DV2-Ov-CH4</th>\n",
       "      <td>./data/siby-manganese-raw\\3-CH4\\4-DV2\\6-OT-v</td>\n",
       "      <td>-43.913053</td>\n",
       "    </tr>\n",
       "    <tr>\n",
       "      <th>Mg-DV2-Bv-CH4</th>\n",
       "      <td>./data/siby-manganese-raw\\3-CH4\\4-DV2\\7-Br-v</td>\n",
       "      <td>-43.927009</td>\n",
       "    </tr>\n",
       "    <tr>\n",
       "      <th>Mg-DV2-D2-CH4</th>\n",
       "      <td>./data/siby-manganese-raw\\3-CH4\\4-DV2\\8-def2</td>\n",
       "      <td>-43.978931</td>\n",
       "    </tr>\n",
       "  </tbody>\n",
       "</table>\n",
       "<p>119 rows × 2 columns</p>\n",
       "</div>"
      ],
      "text/plain": [
       "                                                       path  check_energy\n",
       "Mg-PR-Hh-CO       ./data/siby-manganese-raw\\1-CO\\1-PR\\1-H-h    -38.994429\n",
       "Mg-PR-Oh-CO      ./data/siby-manganese-raw\\1-CO\\1-PR\\2-OT-h           NaN\n",
       "Mg-PR-Bh-CO      ./data/siby-manganese-raw\\1-CO\\1-PR\\3-Br-h    -38.946718\n",
       "Mg-PR-Hv-CO       ./data/siby-manganese-raw\\1-CO\\1-PR\\4-H-v    -38.996568\n",
       "Mg-PR-Ov-CO      ./data/siby-manganese-raw\\1-CO\\1-PR\\5-OT-v    -38.688407\n",
       "...                                                     ...           ...\n",
       "Mg-DV2-D-CH4    ./data/siby-manganese-raw\\3-CH4\\4-DV2\\4-def    -44.088889\n",
       "Mg-DV2-Hv-CH4   ./data/siby-manganese-raw\\3-CH4\\4-DV2\\5-H-v    -43.926195\n",
       "Mg-DV2-Ov-CH4  ./data/siby-manganese-raw\\3-CH4\\4-DV2\\6-OT-v    -43.913053\n",
       "Mg-DV2-Bv-CH4  ./data/siby-manganese-raw\\3-CH4\\4-DV2\\7-Br-v    -43.927009\n",
       "Mg-DV2-D2-CH4  ./data/siby-manganese-raw\\3-CH4\\4-DV2\\8-def2    -43.978931\n",
       "\n",
       "[119 rows x 2 columns]"
      ]
     },
     "execution_count": 39,
     "metadata": {},
     "output_type": "execute_result"
    }
   ],
   "source": [
    "data_df"
   ]
  },
  {
   "cell_type": "code",
   "execution_count": 40,
   "id": "b6431778-73ad-496d-b1f4-bbeadbc26d38",
   "metadata": {},
   "outputs": [],
   "source": [
    "# find the energy and compare it to the table by siby. then save!\n",
    "data_df = pd.DataFrame.from_dict(keys2folders, orient=\"index\")\n",
    "labels_df = pd.read_excel(\"./data/Mg_data_for_ML.fixed.xlsx\")\n",
    "labels_df[\"System\"] = labels_df[\"System\"].apply(lambda s: s.replace(\"Mg-BV1\", \"Mg-DV1\"))\n",
    "labels_df[\"System\"] = labels_df[\"System\"].apply(lambda s: s.replace(\"Mg-BV2\", \"Mg-DV2\"))\n",
    "\n",
    "system_df = labels_df.merge(data_df, left_on=\"System\", right_index=True)\n",
    "\n",
    "mismatch = system_df[\n",
    "    system_df[\"TE\"] - system_df[\"check_energy\"] > 0.0001][\n",
    "    [\"System\", \"TE\", \"check_energy\", \"path\"]]"
   ]
  },
  {
   "cell_type": "code",
   "execution_count": 41,
   "id": "9256292b-5c4f-49cb-84c5-0be211c0caa3",
   "metadata": {},
   "outputs": [
    {
     "data": {
      "text/html": [
       "<div>\n",
       "<style scoped>\n",
       "    .dataframe tbody tr th:only-of-type {\n",
       "        vertical-align: middle;\n",
       "    }\n",
       "\n",
       "    .dataframe tbody tr th {\n",
       "        vertical-align: top;\n",
       "    }\n",
       "\n",
       "    .dataframe thead th {\n",
       "        text-align: right;\n",
       "    }\n",
       "</style>\n",
       "<table border=\"1\" class=\"dataframe\">\n",
       "  <thead>\n",
       "    <tr style=\"text-align: right;\">\n",
       "      <th></th>\n",
       "      <th>System</th>\n",
       "      <th>TE</th>\n",
       "      <th>check_energy</th>\n",
       "      <th>path</th>\n",
       "    </tr>\n",
       "  </thead>\n",
       "  <tbody>\n",
       "  </tbody>\n",
       "</table>\n",
       "</div>"
      ],
      "text/plain": [
       "Empty DataFrame\n",
       "Columns: [System, TE, check_energy, path]\n",
       "Index: []"
      ]
     },
     "execution_count": 41,
     "metadata": {},
     "output_type": "execute_result"
    }
   ],
   "source": [
    "mismatch"
   ]
  },
  {
   "cell_type": "code",
   "execution_count": 42,
   "id": "802e1e9c-2ace-447d-ac9b-87a254730968",
   "metadata": {},
   "outputs": [],
   "source": [
    "system_df.to_excel(\"data/dataset_pp.2022-12-09.xlsx\")"
   ]
  },
  {
   "cell_type": "code",
   "execution_count": null,
   "id": "d387bef8-8631-4459-a2b9-ee677feff164",
   "metadata": {},
   "outputs": [],
   "source": []
  }
 ],
 "metadata": {
  "kernelspec": {
   "display_name": "Python 3",
   "language": "python",
   "name": "python3"
  },
  "language_info": {
   "codemirror_mode": {
    "name": "ipython",
    "version": 3
   },
   "file_extension": ".py",
   "mimetype": "text/x-python",
   "name": "python",
   "nbconvert_exporter": "python",
   "pygments_lexer": "ipython3",
   "version": "3.8.8"
  }
 },
 "nbformat": 4,
 "nbformat_minor": 5
}
